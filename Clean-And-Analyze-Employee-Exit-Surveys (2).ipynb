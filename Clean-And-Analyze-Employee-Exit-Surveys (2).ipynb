{
 "cells": [
  {
   "cell_type": "markdown",
   "metadata": {
    "collapsed": true
   },
   "source": [
    "# Cleaning and Analyzing Employee Exit Surveys\n",
    "\n",
    "In this project, our goal is to clean and analyze employee exit surveys to answer the following questions:\n",
    "\n",
    "1. Are employees who only worked for the institutes for a short period of time resigning due to some kind of dissatisfaction? What about employees who have been there longer?\n",
    "\n",
    "2. Are younger employees resigning due to some kind of dissatisfaction? What about older employees?\n",
    "\n",
    "We will be working with exit surveys from employees of the Department of Education, Training, and Employment (DETE) and the Technical and Further Education institute in Queensland, Australia (TAFE)."
   ]
  },
  {
   "cell_type": "markdown",
   "metadata": {},
   "source": [
    "## Setting up our environment"
   ]
  },
  {
   "cell_type": "code",
   "execution_count": 1,
   "metadata": {
    "collapsed": true
   },
   "outputs": [],
   "source": [
    "import pandas as pd\n",
    "import numpy as np"
   ]
  },
  {
   "cell_type": "code",
   "execution_count": 2,
   "metadata": {
    "collapsed": true
   },
   "outputs": [],
   "source": [
    "dete_survey = pd.read_csv('dete_survey.csv')\n",
    "tafe_survey = pd.read_csv('tafe_survey.csv')"
   ]
  },
  {
   "cell_type": "markdown",
   "metadata": {},
   "source": [
    "## Initial exploration"
   ]
  },
  {
   "cell_type": "code",
   "execution_count": 3,
   "metadata": {
    "collapsed": false
   },
   "outputs": [
    {
     "data": {
      "text/html": [
       "<div>\n",
       "<style scoped>\n",
       "    .dataframe tbody tr th:only-of-type {\n",
       "        vertical-align: middle;\n",
       "    }\n",
       "\n",
       "    .dataframe tbody tr th {\n",
       "        vertical-align: top;\n",
       "    }\n",
       "\n",
       "    .dataframe thead th {\n",
       "        text-align: right;\n",
       "    }\n",
       "</style>\n",
       "<table border=\"1\" class=\"dataframe\">\n",
       "  <thead>\n",
       "    <tr style=\"text-align: right;\">\n",
       "      <th></th>\n",
       "      <th>ID</th>\n",
       "      <th>SeparationType</th>\n",
       "      <th>Cease Date</th>\n",
       "      <th>DETE Start Date</th>\n",
       "      <th>Role Start Date</th>\n",
       "      <th>Position</th>\n",
       "      <th>Classification</th>\n",
       "      <th>Region</th>\n",
       "      <th>Business Unit</th>\n",
       "      <th>Employment Status</th>\n",
       "      <th>...</th>\n",
       "      <th>Kept informed</th>\n",
       "      <th>Wellness programs</th>\n",
       "      <th>Health &amp; Safety</th>\n",
       "      <th>Gender</th>\n",
       "      <th>Age</th>\n",
       "      <th>Aboriginal</th>\n",
       "      <th>Torres Strait</th>\n",
       "      <th>South Sea</th>\n",
       "      <th>Disability</th>\n",
       "      <th>NESB</th>\n",
       "    </tr>\n",
       "  </thead>\n",
       "  <tbody>\n",
       "    <tr>\n",
       "      <th>0</th>\n",
       "      <td>1</td>\n",
       "      <td>Ill Health Retirement</td>\n",
       "      <td>08/2012</td>\n",
       "      <td>1984</td>\n",
       "      <td>2004</td>\n",
       "      <td>Public Servant</td>\n",
       "      <td>A01-A04</td>\n",
       "      <td>Central Office</td>\n",
       "      <td>Corporate Strategy and Peformance</td>\n",
       "      <td>Permanent Full-time</td>\n",
       "      <td>...</td>\n",
       "      <td>N</td>\n",
       "      <td>N</td>\n",
       "      <td>N</td>\n",
       "      <td>Male</td>\n",
       "      <td>56-60</td>\n",
       "      <td>NaN</td>\n",
       "      <td>NaN</td>\n",
       "      <td>NaN</td>\n",
       "      <td>NaN</td>\n",
       "      <td>Yes</td>\n",
       "    </tr>\n",
       "    <tr>\n",
       "      <th>1</th>\n",
       "      <td>2</td>\n",
       "      <td>Voluntary Early Retirement (VER)</td>\n",
       "      <td>08/2012</td>\n",
       "      <td>Not Stated</td>\n",
       "      <td>Not Stated</td>\n",
       "      <td>Public Servant</td>\n",
       "      <td>AO5-AO7</td>\n",
       "      <td>Central Office</td>\n",
       "      <td>Corporate Strategy and Peformance</td>\n",
       "      <td>Permanent Full-time</td>\n",
       "      <td>...</td>\n",
       "      <td>N</td>\n",
       "      <td>N</td>\n",
       "      <td>N</td>\n",
       "      <td>Male</td>\n",
       "      <td>56-60</td>\n",
       "      <td>NaN</td>\n",
       "      <td>NaN</td>\n",
       "      <td>NaN</td>\n",
       "      <td>NaN</td>\n",
       "      <td>NaN</td>\n",
       "    </tr>\n",
       "    <tr>\n",
       "      <th>2</th>\n",
       "      <td>3</td>\n",
       "      <td>Voluntary Early Retirement (VER)</td>\n",
       "      <td>05/2012</td>\n",
       "      <td>2011</td>\n",
       "      <td>2011</td>\n",
       "      <td>Schools Officer</td>\n",
       "      <td>NaN</td>\n",
       "      <td>Central Office</td>\n",
       "      <td>Education Queensland</td>\n",
       "      <td>Permanent Full-time</td>\n",
       "      <td>...</td>\n",
       "      <td>N</td>\n",
       "      <td>N</td>\n",
       "      <td>N</td>\n",
       "      <td>Male</td>\n",
       "      <td>61 or older</td>\n",
       "      <td>NaN</td>\n",
       "      <td>NaN</td>\n",
       "      <td>NaN</td>\n",
       "      <td>NaN</td>\n",
       "      <td>NaN</td>\n",
       "    </tr>\n",
       "    <tr>\n",
       "      <th>3</th>\n",
       "      <td>4</td>\n",
       "      <td>Resignation-Other reasons</td>\n",
       "      <td>05/2012</td>\n",
       "      <td>2005</td>\n",
       "      <td>2006</td>\n",
       "      <td>Teacher</td>\n",
       "      <td>Primary</td>\n",
       "      <td>Central Queensland</td>\n",
       "      <td>NaN</td>\n",
       "      <td>Permanent Full-time</td>\n",
       "      <td>...</td>\n",
       "      <td>A</td>\n",
       "      <td>N</td>\n",
       "      <td>A</td>\n",
       "      <td>Female</td>\n",
       "      <td>36-40</td>\n",
       "      <td>NaN</td>\n",
       "      <td>NaN</td>\n",
       "      <td>NaN</td>\n",
       "      <td>NaN</td>\n",
       "      <td>NaN</td>\n",
       "    </tr>\n",
       "    <tr>\n",
       "      <th>4</th>\n",
       "      <td>5</td>\n",
       "      <td>Age Retirement</td>\n",
       "      <td>05/2012</td>\n",
       "      <td>1970</td>\n",
       "      <td>1989</td>\n",
       "      <td>Head of Curriculum/Head of Special Education</td>\n",
       "      <td>NaN</td>\n",
       "      <td>South East</td>\n",
       "      <td>NaN</td>\n",
       "      <td>Permanent Full-time</td>\n",
       "      <td>...</td>\n",
       "      <td>N</td>\n",
       "      <td>A</td>\n",
       "      <td>M</td>\n",
       "      <td>Female</td>\n",
       "      <td>61 or older</td>\n",
       "      <td>NaN</td>\n",
       "      <td>NaN</td>\n",
       "      <td>NaN</td>\n",
       "      <td>NaN</td>\n",
       "      <td>NaN</td>\n",
       "    </tr>\n",
       "  </tbody>\n",
       "</table>\n",
       "<p>5 rows × 56 columns</p>\n",
       "</div>"
      ],
      "text/plain": [
       "   ID                    SeparationType Cease Date DETE Start Date  \\\n",
       "0   1             Ill Health Retirement    08/2012            1984   \n",
       "1   2  Voluntary Early Retirement (VER)    08/2012      Not Stated   \n",
       "2   3  Voluntary Early Retirement (VER)    05/2012            2011   \n",
       "3   4         Resignation-Other reasons    05/2012            2005   \n",
       "4   5                    Age Retirement    05/2012            1970   \n",
       "\n",
       "  Role Start Date                                      Position  \\\n",
       "0            2004                                Public Servant   \n",
       "1      Not Stated                                Public Servant   \n",
       "2            2011                               Schools Officer   \n",
       "3            2006                                       Teacher   \n",
       "4            1989  Head of Curriculum/Head of Special Education   \n",
       "\n",
       "  Classification              Region                      Business Unit  \\\n",
       "0        A01-A04      Central Office  Corporate Strategy and Peformance   \n",
       "1        AO5-AO7      Central Office  Corporate Strategy and Peformance   \n",
       "2            NaN      Central Office               Education Queensland   \n",
       "3        Primary  Central Queensland                                NaN   \n",
       "4            NaN          South East                                NaN   \n",
       "\n",
       "     Employment Status  ...   Kept informed  Wellness programs  \\\n",
       "0  Permanent Full-time  ...               N                  N   \n",
       "1  Permanent Full-time  ...               N                  N   \n",
       "2  Permanent Full-time  ...               N                  N   \n",
       "3  Permanent Full-time  ...               A                  N   \n",
       "4  Permanent Full-time  ...               N                  A   \n",
       "\n",
       "   Health & Safety  Gender          Age  Aboriginal  Torres Strait  South Sea  \\\n",
       "0                N    Male        56-60         NaN            NaN        NaN   \n",
       "1                N    Male        56-60         NaN            NaN        NaN   \n",
       "2                N    Male  61 or older         NaN            NaN        NaN   \n",
       "3                A  Female        36-40         NaN            NaN        NaN   \n",
       "4                M  Female  61 or older         NaN            NaN        NaN   \n",
       "\n",
       "   Disability  NESB  \n",
       "0         NaN   Yes  \n",
       "1         NaN   NaN  \n",
       "2         NaN   NaN  \n",
       "3         NaN   NaN  \n",
       "4         NaN   NaN  \n",
       "\n",
       "[5 rows x 56 columns]"
      ]
     },
     "execution_count": 3,
     "metadata": {},
     "output_type": "execute_result"
    }
   ],
   "source": [
    "dete_survey.head()"
   ]
  },
  {
   "cell_type": "code",
   "execution_count": 4,
   "metadata": {
    "collapsed": false
   },
   "outputs": [
    {
     "data": {
      "text/html": [
       "<div>\n",
       "<style scoped>\n",
       "    .dataframe tbody tr th:only-of-type {\n",
       "        vertical-align: middle;\n",
       "    }\n",
       "\n",
       "    .dataframe tbody tr th {\n",
       "        vertical-align: top;\n",
       "    }\n",
       "\n",
       "    .dataframe thead th {\n",
       "        text-align: right;\n",
       "    }\n",
       "</style>\n",
       "<table border=\"1\" class=\"dataframe\">\n",
       "  <thead>\n",
       "    <tr style=\"text-align: right;\">\n",
       "      <th></th>\n",
       "      <th>Record ID</th>\n",
       "      <th>Institute</th>\n",
       "      <th>WorkArea</th>\n",
       "      <th>CESSATION YEAR</th>\n",
       "      <th>Reason for ceasing employment</th>\n",
       "      <th>Contributing Factors. Career Move - Public Sector</th>\n",
       "      <th>Contributing Factors. Career Move - Private Sector</th>\n",
       "      <th>Contributing Factors. Career Move - Self-employment</th>\n",
       "      <th>Contributing Factors. Ill Health</th>\n",
       "      <th>Contributing Factors. Maternity/Family</th>\n",
       "      <th>...</th>\n",
       "      <th>Workplace. Topic:Does your workplace promote a work culture free from all forms of unlawful discrimination?</th>\n",
       "      <th>Workplace. Topic:Does your workplace promote and practice the principles of employment equity?</th>\n",
       "      <th>Workplace. Topic:Does your workplace value the diversity of its employees?</th>\n",
       "      <th>Workplace. Topic:Would you recommend the Institute as an employer to others?</th>\n",
       "      <th>Gender. What is your Gender?</th>\n",
       "      <th>CurrentAge. Current Age</th>\n",
       "      <th>Employment Type. Employment Type</th>\n",
       "      <th>Classification. Classification</th>\n",
       "      <th>LengthofServiceOverall. Overall Length of Service at Institute (in years)</th>\n",
       "      <th>LengthofServiceCurrent. Length of Service at current workplace (in years)</th>\n",
       "    </tr>\n",
       "  </thead>\n",
       "  <tbody>\n",
       "    <tr>\n",
       "      <th>0</th>\n",
       "      <td>6.341330e+17</td>\n",
       "      <td>Southern Queensland Institute of TAFE</td>\n",
       "      <td>Non-Delivery (corporate)</td>\n",
       "      <td>2010.0</td>\n",
       "      <td>Contract Expired</td>\n",
       "      <td>NaN</td>\n",
       "      <td>NaN</td>\n",
       "      <td>NaN</td>\n",
       "      <td>NaN</td>\n",
       "      <td>NaN</td>\n",
       "      <td>...</td>\n",
       "      <td>Yes</td>\n",
       "      <td>Yes</td>\n",
       "      <td>Yes</td>\n",
       "      <td>Yes</td>\n",
       "      <td>Female</td>\n",
       "      <td>26  30</td>\n",
       "      <td>Temporary Full-time</td>\n",
       "      <td>Administration (AO)</td>\n",
       "      <td>1-2</td>\n",
       "      <td>1-2</td>\n",
       "    </tr>\n",
       "    <tr>\n",
       "      <th>1</th>\n",
       "      <td>6.341337e+17</td>\n",
       "      <td>Mount Isa Institute of TAFE</td>\n",
       "      <td>Non-Delivery (corporate)</td>\n",
       "      <td>2010.0</td>\n",
       "      <td>Retirement</td>\n",
       "      <td>-</td>\n",
       "      <td>-</td>\n",
       "      <td>-</td>\n",
       "      <td>-</td>\n",
       "      <td>-</td>\n",
       "      <td>...</td>\n",
       "      <td>Yes</td>\n",
       "      <td>Yes</td>\n",
       "      <td>Yes</td>\n",
       "      <td>Yes</td>\n",
       "      <td>NaN</td>\n",
       "      <td>NaN</td>\n",
       "      <td>NaN</td>\n",
       "      <td>NaN</td>\n",
       "      <td>NaN</td>\n",
       "      <td>NaN</td>\n",
       "    </tr>\n",
       "    <tr>\n",
       "      <th>2</th>\n",
       "      <td>6.341388e+17</td>\n",
       "      <td>Mount Isa Institute of TAFE</td>\n",
       "      <td>Delivery (teaching)</td>\n",
       "      <td>2010.0</td>\n",
       "      <td>Retirement</td>\n",
       "      <td>-</td>\n",
       "      <td>-</td>\n",
       "      <td>-</td>\n",
       "      <td>-</td>\n",
       "      <td>-</td>\n",
       "      <td>...</td>\n",
       "      <td>Yes</td>\n",
       "      <td>Yes</td>\n",
       "      <td>Yes</td>\n",
       "      <td>Yes</td>\n",
       "      <td>NaN</td>\n",
       "      <td>NaN</td>\n",
       "      <td>NaN</td>\n",
       "      <td>NaN</td>\n",
       "      <td>NaN</td>\n",
       "      <td>NaN</td>\n",
       "    </tr>\n",
       "    <tr>\n",
       "      <th>3</th>\n",
       "      <td>6.341399e+17</td>\n",
       "      <td>Mount Isa Institute of TAFE</td>\n",
       "      <td>Non-Delivery (corporate)</td>\n",
       "      <td>2010.0</td>\n",
       "      <td>Resignation</td>\n",
       "      <td>-</td>\n",
       "      <td>-</td>\n",
       "      <td>-</td>\n",
       "      <td>-</td>\n",
       "      <td>-</td>\n",
       "      <td>...</td>\n",
       "      <td>Yes</td>\n",
       "      <td>Yes</td>\n",
       "      <td>Yes</td>\n",
       "      <td>Yes</td>\n",
       "      <td>NaN</td>\n",
       "      <td>NaN</td>\n",
       "      <td>NaN</td>\n",
       "      <td>NaN</td>\n",
       "      <td>NaN</td>\n",
       "      <td>NaN</td>\n",
       "    </tr>\n",
       "    <tr>\n",
       "      <th>4</th>\n",
       "      <td>6.341466e+17</td>\n",
       "      <td>Southern Queensland Institute of TAFE</td>\n",
       "      <td>Delivery (teaching)</td>\n",
       "      <td>2010.0</td>\n",
       "      <td>Resignation</td>\n",
       "      <td>-</td>\n",
       "      <td>Career Move - Private Sector</td>\n",
       "      <td>-</td>\n",
       "      <td>-</td>\n",
       "      <td>-</td>\n",
       "      <td>...</td>\n",
       "      <td>Yes</td>\n",
       "      <td>Yes</td>\n",
       "      <td>Yes</td>\n",
       "      <td>Yes</td>\n",
       "      <td>Male</td>\n",
       "      <td>41  45</td>\n",
       "      <td>Permanent Full-time</td>\n",
       "      <td>Teacher (including LVT)</td>\n",
       "      <td>3-4</td>\n",
       "      <td>3-4</td>\n",
       "    </tr>\n",
       "  </tbody>\n",
       "</table>\n",
       "<p>5 rows × 72 columns</p>\n",
       "</div>"
      ],
      "text/plain": [
       "      Record ID                              Institute  \\\n",
       "0  6.341330e+17  Southern Queensland Institute of TAFE   \n",
       "1  6.341337e+17            Mount Isa Institute of TAFE   \n",
       "2  6.341388e+17            Mount Isa Institute of TAFE   \n",
       "3  6.341399e+17            Mount Isa Institute of TAFE   \n",
       "4  6.341466e+17  Southern Queensland Institute of TAFE   \n",
       "\n",
       "                   WorkArea  CESSATION YEAR Reason for ceasing employment  \\\n",
       "0  Non-Delivery (corporate)          2010.0              Contract Expired   \n",
       "1  Non-Delivery (corporate)          2010.0                    Retirement   \n",
       "2       Delivery (teaching)          2010.0                    Retirement   \n",
       "3  Non-Delivery (corporate)          2010.0                   Resignation   \n",
       "4       Delivery (teaching)          2010.0                   Resignation   \n",
       "\n",
       "  Contributing Factors. Career Move - Public Sector   \\\n",
       "0                                                NaN   \n",
       "1                                                  -   \n",
       "2                                                  -   \n",
       "3                                                  -   \n",
       "4                                                  -   \n",
       "\n",
       "  Contributing Factors. Career Move - Private Sector   \\\n",
       "0                                                NaN    \n",
       "1                                                  -    \n",
       "2                                                  -    \n",
       "3                                                  -    \n",
       "4                       Career Move - Private Sector    \n",
       "\n",
       "  Contributing Factors. Career Move - Self-employment  \\\n",
       "0                                                NaN    \n",
       "1                                                  -    \n",
       "2                                                  -    \n",
       "3                                                  -    \n",
       "4                                                  -    \n",
       "\n",
       "  Contributing Factors. Ill Health Contributing Factors. Maternity/Family  \\\n",
       "0                              NaN                                    NaN   \n",
       "1                                -                                      -   \n",
       "2                                -                                      -   \n",
       "3                                -                                      -   \n",
       "4                                -                                      -   \n",
       "\n",
       "                                     ...                                     \\\n",
       "0                                    ...                                      \n",
       "1                                    ...                                      \n",
       "2                                    ...                                      \n",
       "3                                    ...                                      \n",
       "4                                    ...                                      \n",
       "\n",
       "  Workplace. Topic:Does your workplace promote a work culture free from all forms of unlawful discrimination?  \\\n",
       "0                                                Yes                                                            \n",
       "1                                                Yes                                                            \n",
       "2                                                Yes                                                            \n",
       "3                                                Yes                                                            \n",
       "4                                                Yes                                                            \n",
       "\n",
       "  Workplace. Topic:Does your workplace promote and practice the principles of employment equity?  \\\n",
       "0                                                Yes                                               \n",
       "1                                                Yes                                               \n",
       "2                                                Yes                                               \n",
       "3                                                Yes                                               \n",
       "4                                                Yes                                               \n",
       "\n",
       "  Workplace. Topic:Does your workplace value the diversity of its employees?  \\\n",
       "0                                                Yes                           \n",
       "1                                                Yes                           \n",
       "2                                                Yes                           \n",
       "3                                                Yes                           \n",
       "4                                                Yes                           \n",
       "\n",
       "  Workplace. Topic:Would you recommend the Institute as an employer to others?  \\\n",
       "0                                                Yes                             \n",
       "1                                                Yes                             \n",
       "2                                                Yes                             \n",
       "3                                                Yes                             \n",
       "4                                                Yes                             \n",
       "\n",
       "  Gender. What is your Gender? CurrentAge. Current Age  \\\n",
       "0                       Female                  26  30   \n",
       "1                          NaN                     NaN   \n",
       "2                          NaN                     NaN   \n",
       "3                          NaN                     NaN   \n",
       "4                         Male                  41  45   \n",
       "\n",
       "  Employment Type. Employment Type Classification. Classification  \\\n",
       "0              Temporary Full-time            Administration (AO)   \n",
       "1                              NaN                            NaN   \n",
       "2                              NaN                            NaN   \n",
       "3                              NaN                            NaN   \n",
       "4              Permanent Full-time        Teacher (including LVT)   \n",
       "\n",
       "  LengthofServiceOverall. Overall Length of Service at Institute (in years)  \\\n",
       "0                                                1-2                          \n",
       "1                                                NaN                          \n",
       "2                                                NaN                          \n",
       "3                                                NaN                          \n",
       "4                                                3-4                          \n",
       "\n",
       "  LengthofServiceCurrent. Length of Service at current workplace (in years)  \n",
       "0                                                1-2                         \n",
       "1                                                NaN                         \n",
       "2                                                NaN                         \n",
       "3                                                NaN                         \n",
       "4                                                3-4                         \n",
       "\n",
       "[5 rows x 72 columns]"
      ]
     },
     "execution_count": 4,
     "metadata": {},
     "output_type": "execute_result"
    }
   ],
   "source": [
    "tafe_survey.head()"
   ]
  },
  {
   "cell_type": "code",
   "execution_count": 5,
   "metadata": {
    "collapsed": false
   },
   "outputs": [
    {
     "data": {
      "text/plain": [
       "ID                                       0\n",
       "SeparationType                           0\n",
       "Cease Date                               0\n",
       "DETE Start Date                          0\n",
       "Role Start Date                          0\n",
       "Position                                 5\n",
       "Classification                         367\n",
       "Region                                   0\n",
       "Business Unit                          696\n",
       "Employment Status                        5\n",
       "Career move to public sector             0\n",
       "Career move to private sector            0\n",
       "Interpersonal conflicts                  0\n",
       "Job dissatisfaction                      0\n",
       "Dissatisfaction with the department      0\n",
       "Physical work environment                0\n",
       "Lack of recognition                      0\n",
       "Lack of job security                     0\n",
       "Work location                            0\n",
       "Employment conditions                    0\n",
       "Maternity/family                         0\n",
       "Relocation                               0\n",
       "Study/Travel                             0\n",
       "Ill Health                               0\n",
       "Traumatic incident                       0\n",
       "Work life balance                        0\n",
       "Workload                                 0\n",
       "None of the above                        0\n",
       "Professional Development                14\n",
       "Opportunities for promotion             87\n",
       "Staff morale                             6\n",
       "Workplace issue                         34\n",
       "Physical environment                     5\n",
       "Worklife balance                         7\n",
       "Stress and pressure support             12\n",
       "Performance of supervisor                9\n",
       "Peer support                            10\n",
       "Initiative                               9\n",
       "Skills                                  11\n",
       "Coach                                   55\n",
       "Career Aspirations                      76\n",
       "Feedback                                30\n",
       "Further PD                              54\n",
       "Communication                            8\n",
       "My say                                  10\n",
       "Information                              6\n",
       "Kept informed                            9\n",
       "Wellness programs                       56\n",
       "Health & Safety                         29\n",
       "Gender                                  24\n",
       "Age                                     11\n",
       "Aboriginal                             806\n",
       "Torres Strait                          819\n",
       "South Sea                              815\n",
       "Disability                             799\n",
       "NESB                                   790\n",
       "dtype: int64"
      ]
     },
     "execution_count": 5,
     "metadata": {},
     "output_type": "execute_result"
    }
   ],
   "source": [
    "dete_survey.isnull().sum()"
   ]
  },
  {
   "cell_type": "code",
   "execution_count": 6,
   "metadata": {
    "collapsed": false
   },
   "outputs": [
    {
     "data": {
      "text/plain": [
       "Record ID                                                                                                                                                          0\n",
       "Institute                                                                                                                                                          0\n",
       "WorkArea                                                                                                                                                           0\n",
       "CESSATION YEAR                                                                                                                                                     7\n",
       "Reason for ceasing employment                                                                                                                                      1\n",
       "Contributing Factors. Career Move - Public Sector                                                                                                                265\n",
       "Contributing Factors. Career Move - Private Sector                                                                                                               265\n",
       "Contributing Factors. Career Move - Self-employment                                                                                                              265\n",
       "Contributing Factors. Ill Health                                                                                                                                 265\n",
       "Contributing Factors. Maternity/Family                                                                                                                           265\n",
       "Contributing Factors. Dissatisfaction                                                                                                                            265\n",
       "Contributing Factors. Job Dissatisfaction                                                                                                                        265\n",
       "Contributing Factors. Interpersonal Conflict                                                                                                                     265\n",
       "Contributing Factors. Study                                                                                                                                      265\n",
       "Contributing Factors. Travel                                                                                                                                     265\n",
       "Contributing Factors. Other                                                                                                                                      265\n",
       "Contributing Factors. NONE                                                                                                                                       265\n",
       "Main Factor. Which of these was the main factor for leaving?                                                                                                     589\n",
       "InstituteViews. Topic:1. I feel the senior leadership had a clear vision and direction                                                                            94\n",
       "InstituteViews. Topic:2. I was given access to skills training to help me do my job better                                                                        89\n",
       "InstituteViews. Topic:3. I was given adequate opportunities for personal development                                                                              92\n",
       "InstituteViews. Topic:4. I was given adequate opportunities for promotion within %Institute]Q25LBL%                                                               94\n",
       "InstituteViews. Topic:5. I felt the salary for the job was right for the responsibilities I had                                                                   87\n",
       "InstituteViews. Topic:6. The organisation recognised when staff did good work                                                                                     95\n",
       "InstituteViews. Topic:7. Management was generally supportive of me                                                                                                88\n",
       "InstituteViews. Topic:8. Management was generally supportive of my team                                                                                           94\n",
       "InstituteViews. Topic:9. I was kept informed of the changes in the organisation which would affect me                                                             92\n",
       "InstituteViews. Topic:10. Staff morale was positive within the Institute                                                                                         100\n",
       "InstituteViews. Topic:11. If I had a workplace issue it was dealt with quickly                                                                                   101\n",
       "InstituteViews. Topic:12. If I had a workplace issue it was dealt with efficiently                                                                               105\n",
       "                                                                                                                                                                ... \n",
       "WorkUnitViews. Topic:25. My job allowed me to balance the demands of work and family to my satisfaction                                                           91\n",
       "WorkUnitViews. Topic:26. My supervisor gave me adequate personal recognition and feedback on my performance                                                       96\n",
       "WorkUnitViews. Topic:27. My working environment was satisfactory e.g. sufficient space, good lighting, suitable seating and working area                          92\n",
       "WorkUnitViews. Topic:28. I was given the opportunity to mentor and coach others in order for me to pass on my skills and knowledge prior to my cessation date     93\n",
       "WorkUnitViews. Topic:29. There was adequate communication between staff in my unit                                                                                99\n",
       "WorkUnitViews. Topic:30. Staff morale was positive within my work unit                                                                                            96\n",
       "Induction. Did you undertake Workplace Induction?                                                                                                                 83\n",
       "InductionInfo. Topic:Did you undertake a Corporate Induction?                                                                                                    270\n",
       "InductionInfo. Topic:Did you undertake a Institute Induction?                                                                                                    219\n",
       "InductionInfo. Topic: Did you undertake Team Induction?                                                                                                          262\n",
       "InductionInfo. Face to Face Topic:Did you undertake a Corporate Induction; Category:How it was conducted?                                                        147\n",
       "InductionInfo. On-line Topic:Did you undertake a Corporate Induction; Category:How it was conducted?                                                             147\n",
       "InductionInfo. Induction Manual Topic:Did you undertake a Corporate Induction?                                                                                   147\n",
       "InductionInfo. Face to Face Topic:Did you undertake a Institute Induction?                                                                                       172\n",
       "InductionInfo. On-line Topic:Did you undertake a Institute Induction?                                                                                            147\n",
       "InductionInfo. Induction Manual Topic:Did you undertake a Institute Induction?                                                                                   149\n",
       "InductionInfo. Face to Face Topic: Did you undertake Team Induction; Category?                                                                                   147\n",
       "InductionInfo. On-line Topic: Did you undertake Team Induction?process you undertook and how it was conducted.]                                                  147\n",
       "InductionInfo. Induction Manual Topic: Did you undertake Team Induction?                                                                                         147\n",
       "Workplace. Topic:Did you and your Manager develop a Performance and Professional Development Plan (PPDP)?                                                         94\n",
       "Workplace. Topic:Does your workplace promote a work culture free from all forms of unlawful discrimination?                                                      108\n",
       "Workplace. Topic:Does your workplace promote and practice the principles of employment equity?                                                                   115\n",
       "Workplace. Topic:Does your workplace value the diversity of its employees?                                                                                       116\n",
       "Workplace. Topic:Would you recommend the Institute as an employer to others?                                                                                     121\n",
       "Gender. What is your Gender?                                                                                                                                     106\n",
       "CurrentAge. Current Age                                                                                                                                          106\n",
       "Employment Type. Employment Type                                                                                                                                 106\n",
       "Classification. Classification                                                                                                                                   106\n",
       "LengthofServiceOverall. Overall Length of Service at Institute (in years)                                                                                        106\n",
       "LengthofServiceCurrent. Length of Service at current workplace (in years)                                                                                        106\n",
       "Length: 72, dtype: int64"
      ]
     },
     "execution_count": 6,
     "metadata": {},
     "output_type": "execute_result"
    }
   ],
   "source": [
    "tafe_survey.isnull().sum()"
   ]
  },
  {
   "cell_type": "markdown",
   "metadata": {},
   "source": [
    "We can make the following observations:\n",
    "- The dete_survey dataframe has values that are 'Not Stated' which should be represented as NaN\n",
    "- Both surveys contain many columns we won't need for our analsyis\n",
    "- Both surveys represent the same columns with different names\n",
    "- There are multiple columns that indicate an employee resigned because they were dissatisfied"
   ]
  },
  {
   "cell_type": "markdown",
   "metadata": {},
   "source": [
    "## Identifying missing values and dropping unnecessary columns"
   ]
  },
  {
   "cell_type": "code",
   "execution_count": 7,
   "metadata": {
    "collapsed": true
   },
   "outputs": [],
   "source": [
    "dete_survey = pd.read_csv('dete_survey.csv', na_values='Not Stated')"
   ]
  },
  {
   "cell_type": "code",
   "execution_count": 8,
   "metadata": {
    "collapsed": true
   },
   "outputs": [],
   "source": [
    "dete_survey = dete_survey.drop(dete_survey.columns[28:49], axis=1)"
   ]
  },
  {
   "cell_type": "code",
   "execution_count": 9,
   "metadata": {
    "collapsed": true
   },
   "outputs": [],
   "source": [
    "tafe_survey = tafe_survey.drop(tafe_survey.columns[17:66], axis=1)"
   ]
  },
  {
   "cell_type": "markdown",
   "metadata": {},
   "source": [
    "Reading the dete_survey into a dataframe with the na_values parameter set to 'Not Stated' solved our problem of missing values which weren't represented as NaN. Dropping columns will simplify our analysis as we don't need these columns to answer our questions."
   ]
  },
  {
   "cell_type": "markdown",
   "metadata": {},
   "source": [
    "## Cleaning column names"
   ]
  },
  {
   "cell_type": "code",
   "execution_count": 10,
   "metadata": {
    "collapsed": true
   },
   "outputs": [],
   "source": [
    "dete_survey.columns = dete_survey.columns.str.lower().str.strip().str.replace(' ', '_')"
   ]
  },
  {
   "cell_type": "code",
   "execution_count": 11,
   "metadata": {
    "collapsed": false
   },
   "outputs": [],
   "source": [
    "tafe_survey = tafe_survey.rename(columns={'Record ID': 'id',\n",
    "                            'CESSATION YEAR': 'cease_date',\n",
    "                           'Reason for ceasing employment': 'separationtype',\n",
    "                           'Gender. What is your Gender?': 'gender',\n",
    "                           'CurrentAge. Current Age': 'age',\n",
    "                           'Employment Type. Employment Type': 'employment_status',\n",
    "                           'Classification. Classification': 'position',\n",
    "                           'LengthofServiceOverall. Overall Length of Service at Institute (in years)': 'institute_service',\n",
    "                           'LengthofServiceCurrent. Length of Service at current workplace (in years)': 'role_service'})\n",
    "                   "
   ]
  },
  {
   "cell_type": "markdown",
   "metadata": {},
   "source": [
    "Standardizing the column names in both dataframes allows for consitency so we can combine the dataframes in our analysis."
   ]
  },
  {
   "cell_type": "markdown",
   "metadata": {},
   "source": [
    "## Filtering the data"
   ]
  },
  {
   "cell_type": "code",
   "execution_count": 12,
   "metadata": {
    "collapsed": false
   },
   "outputs": [
    {
     "data": {
      "text/plain": [
       "Age Retirement                          285\n",
       "Resignation-Other reasons               150\n",
       "Resignation-Other employer               91\n",
       "Resignation-Move overseas/interstate     70\n",
       "Voluntary Early Retirement (VER)         67\n",
       "Ill Health Retirement                    61\n",
       "Other                                    49\n",
       "Contract Expired                         34\n",
       "Termination                              15\n",
       "Name: separationtype, dtype: int64"
      ]
     },
     "execution_count": 12,
     "metadata": {},
     "output_type": "execute_result"
    }
   ],
   "source": [
    "dete_survey['separationtype'].value_counts()"
   ]
  },
  {
   "cell_type": "code",
   "execution_count": 13,
   "metadata": {
    "collapsed": false
   },
   "outputs": [
    {
     "data": {
      "text/plain": [
       "Resignation                 340\n",
       "Contract Expired            127\n",
       "Retrenchment/ Redundancy    104\n",
       "Retirement                   82\n",
       "Transfer                     25\n",
       "Termination                  23\n",
       "Name: separationtype, dtype: int64"
      ]
     },
     "execution_count": 13,
     "metadata": {},
     "output_type": "execute_result"
    }
   ],
   "source": [
    "tafe_survey['separationtype'].value_counts()"
   ]
  },
  {
   "cell_type": "code",
   "execution_count": 14,
   "metadata": {
    "collapsed": false
   },
   "outputs": [],
   "source": [
    "dete_resignations = dete_survey[dete_survey['separationtype'].str.contains('Resignation')].copy()"
   ]
  },
  {
   "cell_type": "code",
   "execution_count": 15,
   "metadata": {
    "collapsed": false
   },
   "outputs": [],
   "source": [
    "tafe_resignations = tafe_survey[tafe_survey['separationtype'] == 'Resignation'].copy()"
   ]
  },
  {
   "cell_type": "markdown",
   "metadata": {},
   "source": [
    "Our end goal is to answer the following question:\n",
    "\n",
    "Are employees who have only worked for the institutes for a short period of time resigning due to some kind of dissatisfaction? What about employees who have been at the job longer?\n",
    "\n",
    "Filtering our data to only include resignations removed any data that we don't need for our analysis"
   ]
  },
  {
   "cell_type": "markdown",
   "metadata": {},
   "source": [
    "## Verifying the data"
   ]
  },
  {
   "cell_type": "markdown",
   "metadata": {},
   "source": [
    "Before we start our analysis it is important to verify that our data doesn't contain any major inconsitencies. Garbage in = garbage out."
   ]
  },
  {
   "cell_type": "markdown",
   "metadata": {},
   "source": [
    "### Checking the years in each dataframe for logical inconsitencies"
   ]
  },
  {
   "cell_type": "code",
   "execution_count": 16,
   "metadata": {
    "collapsed": false
   },
   "outputs": [
    {
     "data": {
      "text/plain": [
       "2012       126\n",
       "2013        74\n",
       "01/2014     22\n",
       "12/2013     17\n",
       "06/2013     14\n",
       "09/2013     11\n",
       "11/2013      9\n",
       "07/2013      9\n",
       "10/2013      6\n",
       "08/2013      4\n",
       "05/2012      2\n",
       "05/2013      2\n",
       "09/2010      1\n",
       "07/2012      1\n",
       "07/2006      1\n",
       "2010         1\n",
       "Name: cease_date, dtype: int64"
      ]
     },
     "execution_count": 16,
     "metadata": {},
     "output_type": "execute_result"
    }
   ],
   "source": [
    "dete_resignations['cease_date'].value_counts()"
   ]
  },
  {
   "cell_type": "code",
   "execution_count": 17,
   "metadata": {
    "collapsed": false
   },
   "outputs": [],
   "source": [
    "dete_resignations['cease_year'] = dete_resignations['cease_date'].str.extract(r\"([1-2][0-9][0-9][0-9])\", expand=False).astype(float)"
   ]
  },
  {
   "cell_type": "code",
   "execution_count": 18,
   "metadata": {
    "collapsed": false
   },
   "outputs": [
    {
     "data": {
      "text/plain": [
       "2013.0    146\n",
       "2012.0    129\n",
       "2014.0     22\n",
       "2010.0      2\n",
       "2006.0      1\n",
       "Name: cease_year, dtype: int64"
      ]
     },
     "execution_count": 18,
     "metadata": {},
     "output_type": "execute_result"
    }
   ],
   "source": [
    "dete_resignations['cease_year'].value_counts()"
   ]
  },
  {
   "cell_type": "code",
   "execution_count": 19,
   "metadata": {
    "collapsed": true
   },
   "outputs": [],
   "source": [
    "dete_resignations['dete_start_date'] = dete_resignations['dete_start_date'].astype(float)"
   ]
  },
  {
   "cell_type": "code",
   "execution_count": 20,
   "metadata": {
    "collapsed": false
   },
   "outputs": [
    {
     "data": {
      "text/plain": [
       "2011.0    24\n",
       "2008.0    22\n",
       "2007.0    21\n",
       "2012.0    21\n",
       "2010.0    17\n",
       "2005.0    15\n",
       "2004.0    14\n",
       "2009.0    13\n",
       "2006.0    13\n",
       "2013.0    10\n",
       "2000.0     9\n",
       "1999.0     8\n",
       "1996.0     6\n",
       "2002.0     6\n",
       "1992.0     6\n",
       "1998.0     6\n",
       "2003.0     6\n",
       "1994.0     6\n",
       "1993.0     5\n",
       "1990.0     5\n",
       "1980.0     5\n",
       "1997.0     5\n",
       "1991.0     4\n",
       "1989.0     4\n",
       "1988.0     4\n",
       "1995.0     4\n",
       "2001.0     3\n",
       "1985.0     3\n",
       "1986.0     3\n",
       "1983.0     2\n",
       "1976.0     2\n",
       "1974.0     2\n",
       "1971.0     1\n",
       "1972.0     1\n",
       "1984.0     1\n",
       "1982.0     1\n",
       "1987.0     1\n",
       "1975.0     1\n",
       "1973.0     1\n",
       "1977.0     1\n",
       "1963.0     1\n",
       "Name: dete_start_date, dtype: int64"
      ]
     },
     "execution_count": 20,
     "metadata": {},
     "output_type": "execute_result"
    }
   ],
   "source": [
    "dete_resignations['dete_start_date'].value_counts()"
   ]
  },
  {
   "cell_type": "code",
   "execution_count": 21,
   "metadata": {
    "collapsed": false
   },
   "outputs": [
    {
     "data": {
      "text/plain": [
       "3      2010.0\n",
       "4      2010.0\n",
       "5      2010.0\n",
       "6      2010.0\n",
       "7      2010.0\n",
       "8      2009.0\n",
       "9      2010.0\n",
       "10     2010.0\n",
       "13     2010.0\n",
       "14     2010.0\n",
       "15     2010.0\n",
       "16     2010.0\n",
       "17     2010.0\n",
       "18     2010.0\n",
       "19     2010.0\n",
       "20     2010.0\n",
       "21     2010.0\n",
       "22     2010.0\n",
       "23     2010.0\n",
       "24     2010.0\n",
       "26     2010.0\n",
       "27     2010.0\n",
       "29     2010.0\n",
       "32     2010.0\n",
       "36     2010.0\n",
       "37     2010.0\n",
       "39     2010.0\n",
       "40     2010.0\n",
       "41     2010.0\n",
       "42     2010.0\n",
       "        ...  \n",
       "659    2013.0\n",
       "660    2013.0\n",
       "661    2013.0\n",
       "665    2013.0\n",
       "666    2013.0\n",
       "669    2013.0\n",
       "670    2013.0\n",
       "671    2013.0\n",
       "675    2013.0\n",
       "676    2013.0\n",
       "677    2013.0\n",
       "678    2013.0\n",
       "679    2013.0\n",
       "681    2013.0\n",
       "682    2013.0\n",
       "683    2013.0\n",
       "684    2013.0\n",
       "685    2013.0\n",
       "686    2013.0\n",
       "688    2013.0\n",
       "689    2013.0\n",
       "690    2013.0\n",
       "691    2013.0\n",
       "693    2013.0\n",
       "694    2013.0\n",
       "696    2013.0\n",
       "697    2013.0\n",
       "698    2013.0\n",
       "699    2013.0\n",
       "701    2013.0\n",
       "Name: cease_date, Length: 340, dtype: float64"
      ]
     },
     "execution_count": 21,
     "metadata": {},
     "output_type": "execute_result"
    }
   ],
   "source": [
    "tafe_resignations['cease_date']"
   ]
  },
  {
   "cell_type": "markdown",
   "metadata": {},
   "source": [
    "We can verify that there aren't any major issues with the years. We can also observe that the years in each datafram don't quite span the same number of years, we can drop years we don't need for our analysis later."
   ]
  },
  {
   "cell_type": "markdown",
   "metadata": {},
   "source": [
    "## Creating a new column\n",
    "\n",
    "We already have the employee service records for our tafe_resignations dataframe. In order to analyze both surveys together, we need to create a service column in dete_resignations."
   ]
  },
  {
   "cell_type": "code",
   "execution_count": 22,
   "metadata": {
    "collapsed": false
   },
   "outputs": [],
   "source": [
    "dete_resignations['institute_service'] = dete_resignations['cease_year'] - dete_resignations['dete_start_date']"
   ]
  },
  {
   "cell_type": "markdown",
   "metadata": {},
   "source": [
    "## Identifying dissatisfied employees\n",
    "\n",
    "If an employee resigned due to job dissatisfaction they will be marked as True in a new column."
   ]
  },
  {
   "cell_type": "code",
   "execution_count": 23,
   "metadata": {
    "collapsed": false
   },
   "outputs": [
    {
     "data": {
      "text/plain": [
       "-                                         277\n",
       "Contributing Factors. Dissatisfaction      55\n",
       "Name: Contributing Factors. Dissatisfaction, dtype: int64"
      ]
     },
     "execution_count": 23,
     "metadata": {},
     "output_type": "execute_result"
    }
   ],
   "source": [
    "tafe_resignations['Contributing Factors. Dissatisfaction'].value_counts()"
   ]
  },
  {
   "cell_type": "code",
   "execution_count": 24,
   "metadata": {
    "collapsed": false
   },
   "outputs": [
    {
     "data": {
      "text/plain": [
       "-                      270\n",
       "Job Dissatisfaction     62\n",
       "Name: Contributing Factors. Job Dissatisfaction, dtype: int64"
      ]
     },
     "execution_count": 24,
     "metadata": {},
     "output_type": "execute_result"
    }
   ],
   "source": [
    "tafe_resignations['Contributing Factors. Job Dissatisfaction'].value_counts()"
   ]
  },
  {
   "cell_type": "code",
   "execution_count": 25,
   "metadata": {
    "collapsed": true
   },
   "outputs": [],
   "source": [
    "def update_vals(val):\n",
    "    if pd.isnull(val):\n",
    "        return np.nan\n",
    "    elif val == '-':\n",
    "        return False\n",
    "    else:\n",
    "        return True"
   ]
  },
  {
   "cell_type": "code",
   "execution_count": 26,
   "metadata": {
    "collapsed": false
   },
   "outputs": [],
   "source": [
    "tafe_resignations['dissatisfied'] = tafe_resignations[['Contributing Factors. Dissatisfaction', 'Contributing Factors. Job Dissatisfaction']].applymap(update_vals).any(axis=1, skipna=False)\n",
    "dete_resignations['dissatisfied'] = dete_resignations[['job_dissatisfaction', 'dissatisfaction_with_the_department', 'physical_work_environment', 'lack_of_recognition', 'lack_of_job_security', 'work_location', 'employment_conditions', 'work_life_balance', 'workload']].any(axis=1, skipna=False)"
   ]
  },
  {
   "cell_type": "code",
   "execution_count": 27,
   "metadata": {
    "collapsed": false
   },
   "outputs": [],
   "source": [
    "tafe_resignations_up = tafe_resignations.copy()\n",
    "dete_resignations_up = dete_resignations.copy()"
   ]
  },
  {
   "cell_type": "markdown",
   "metadata": {
    "collapsed": true
   },
   "source": [
    "## Combining the data"
   ]
  },
  {
   "cell_type": "code",
   "execution_count": 28,
   "metadata": {
    "collapsed": true
   },
   "outputs": [],
   "source": [
    "dete_resignations_up['institute'] = 'DETE'\n",
    "tafe_resignations_up['institute'] = 'TAFE'"
   ]
  },
  {
   "cell_type": "code",
   "execution_count": 29,
   "metadata": {
    "collapsed": false
   },
   "outputs": [],
   "source": [
    "combined = pd.concat([dete_resignations_up, tafe_resignations_up])"
   ]
  },
  {
   "cell_type": "code",
   "execution_count": 30,
   "metadata": {
    "collapsed": false
   },
   "outputs": [],
   "source": [
    "combined_updated = combined.dropna(axis=1, thresh=500).copy()"
   ]
  },
  {
   "cell_type": "code",
   "execution_count": 31,
   "metadata": {
    "collapsed": false
   },
   "outputs": [
    {
     "data": {
      "text/html": [
       "<div>\n",
       "<style scoped>\n",
       "    .dataframe tbody tr th:only-of-type {\n",
       "        vertical-align: middle;\n",
       "    }\n",
       "\n",
       "    .dataframe tbody tr th {\n",
       "        vertical-align: top;\n",
       "    }\n",
       "\n",
       "    .dataframe thead th {\n",
       "        text-align: right;\n",
       "    }\n",
       "</style>\n",
       "<table border=\"1\" class=\"dataframe\">\n",
       "  <thead>\n",
       "    <tr style=\"text-align: right;\">\n",
       "      <th></th>\n",
       "      <th>age</th>\n",
       "      <th>cease_date</th>\n",
       "      <th>dissatisfied</th>\n",
       "      <th>employment_status</th>\n",
       "      <th>gender</th>\n",
       "      <th>id</th>\n",
       "      <th>institute</th>\n",
       "      <th>institute_service</th>\n",
       "      <th>position</th>\n",
       "      <th>separationtype</th>\n",
       "    </tr>\n",
       "  </thead>\n",
       "  <tbody>\n",
       "    <tr>\n",
       "      <th>3</th>\n",
       "      <td>36-40</td>\n",
       "      <td>05/2012</td>\n",
       "      <td>False</td>\n",
       "      <td>Permanent Full-time</td>\n",
       "      <td>Female</td>\n",
       "      <td>4.0</td>\n",
       "      <td>DETE</td>\n",
       "      <td>7</td>\n",
       "      <td>Teacher</td>\n",
       "      <td>Resignation-Other reasons</td>\n",
       "    </tr>\n",
       "    <tr>\n",
       "      <th>5</th>\n",
       "      <td>41-45</td>\n",
       "      <td>05/2012</td>\n",
       "      <td>True</td>\n",
       "      <td>Permanent Full-time</td>\n",
       "      <td>Female</td>\n",
       "      <td>6.0</td>\n",
       "      <td>DETE</td>\n",
       "      <td>18</td>\n",
       "      <td>Guidance Officer</td>\n",
       "      <td>Resignation-Other reasons</td>\n",
       "    </tr>\n",
       "    <tr>\n",
       "      <th>8</th>\n",
       "      <td>31-35</td>\n",
       "      <td>07/2012</td>\n",
       "      <td>False</td>\n",
       "      <td>Permanent Full-time</td>\n",
       "      <td>Female</td>\n",
       "      <td>9.0</td>\n",
       "      <td>DETE</td>\n",
       "      <td>3</td>\n",
       "      <td>Teacher</td>\n",
       "      <td>Resignation-Other reasons</td>\n",
       "    </tr>\n",
       "    <tr>\n",
       "      <th>9</th>\n",
       "      <td>46-50</td>\n",
       "      <td>2012</td>\n",
       "      <td>True</td>\n",
       "      <td>Permanent Part-time</td>\n",
       "      <td>Female</td>\n",
       "      <td>10.0</td>\n",
       "      <td>DETE</td>\n",
       "      <td>15</td>\n",
       "      <td>Teacher Aide</td>\n",
       "      <td>Resignation-Other employer</td>\n",
       "    </tr>\n",
       "    <tr>\n",
       "      <th>11</th>\n",
       "      <td>31-35</td>\n",
       "      <td>2012</td>\n",
       "      <td>False</td>\n",
       "      <td>Permanent Full-time</td>\n",
       "      <td>Male</td>\n",
       "      <td>12.0</td>\n",
       "      <td>DETE</td>\n",
       "      <td>3</td>\n",
       "      <td>Teacher</td>\n",
       "      <td>Resignation-Move overseas/interstate</td>\n",
       "    </tr>\n",
       "  </tbody>\n",
       "</table>\n",
       "</div>"
      ],
      "text/plain": [
       "      age cease_date dissatisfied    employment_status  gender    id  \\\n",
       "3   36-40    05/2012        False  Permanent Full-time  Female   4.0   \n",
       "5   41-45    05/2012         True  Permanent Full-time  Female   6.0   \n",
       "8   31-35    07/2012        False  Permanent Full-time  Female   9.0   \n",
       "9   46-50       2012         True  Permanent Part-time  Female  10.0   \n",
       "11  31-35       2012        False  Permanent Full-time    Male  12.0   \n",
       "\n",
       "   institute institute_service          position  \\\n",
       "3       DETE                 7           Teacher   \n",
       "5       DETE                18  Guidance Officer   \n",
       "8       DETE                 3           Teacher   \n",
       "9       DETE                15      Teacher Aide   \n",
       "11      DETE                 3           Teacher   \n",
       "\n",
       "                          separationtype  \n",
       "3              Resignation-Other reasons  \n",
       "5              Resignation-Other reasons  \n",
       "8              Resignation-Other reasons  \n",
       "9             Resignation-Other employer  \n",
       "11  Resignation-Move overseas/interstate  "
      ]
     },
     "execution_count": 31,
     "metadata": {},
     "output_type": "execute_result"
    }
   ],
   "source": [
    "combined_updated.head()"
   ]
  },
  {
   "cell_type": "markdown",
   "metadata": {},
   "source": [
    "When combining the datasets we added an institute column in order to distinguish between the two surveys. We also dropped columns which aren't needed for our analysis."
   ]
  },
  {
   "cell_type": "markdown",
   "metadata": {},
   "source": [
    "## Cleaning the service column"
   ]
  },
  {
   "cell_type": "markdown",
   "metadata": {},
   "source": [
    "To analyze our data, we will convert the service column numbers into categories following the definitions below:\n",
    "    \n",
    "- New: Less than 3 years at a company\n",
    "- Experienced: 3-6 years at a company\n",
    "- Established: 7-10 years at a company\n",
    "- Veteran: 11 or more years at a company"
   ]
  },
  {
   "cell_type": "code",
   "execution_count": 32,
   "metadata": {
    "collapsed": false
   },
   "outputs": [
    {
     "data": {
      "text/plain": [
       " 1.0     159\n",
       "NaN       88\n",
       " 3.0      83\n",
       " 5.0      56\n",
       " 7.0      34\n",
       " 11.0     30\n",
       " 0.0      20\n",
       " 20.0     17\n",
       " 6.0      17\n",
       " 4.0      16\n",
       " 9.0      14\n",
       " 2.0      14\n",
       " 13.0      8\n",
       " 8.0       8\n",
       " 15.0      7\n",
       " 22.0      6\n",
       " 10.0      6\n",
       " 17.0      6\n",
       " 14.0      6\n",
       " 12.0      6\n",
       " 16.0      5\n",
       " 18.0      5\n",
       " 24.0      4\n",
       " 23.0      4\n",
       " 21.0      3\n",
       " 39.0      3\n",
       " 32.0      3\n",
       " 19.0      3\n",
       " 36.0      2\n",
       " 30.0      2\n",
       " 25.0      2\n",
       " 26.0      2\n",
       " 28.0      2\n",
       " 42.0      1\n",
       " 29.0      1\n",
       " 35.0      1\n",
       " 27.0      1\n",
       " 41.0      1\n",
       " 49.0      1\n",
       " 38.0      1\n",
       " 34.0      1\n",
       " 33.0      1\n",
       " 31.0      1\n",
       "Name: institute_service, dtype: int64"
      ]
     },
     "execution_count": 32,
     "metadata": {},
     "output_type": "execute_result"
    }
   ],
   "source": [
    "combined_updated['institute_service'] = (combined_updated['institute_service']\n",
    "                                         .astype(str)\n",
    "                                         .str.extract(r'(\\d+)', expand=False)\n",
    "                                         .astype(float))\n",
    "combined_updated['institute_service'].value_counts(dropna=False)"
   ]
  },
  {
   "cell_type": "code",
   "execution_count": 33,
   "metadata": {
    "collapsed": true
   },
   "outputs": [],
   "source": [
    "def map_year_value(val):\n",
    "    if pd.isnull(val):\n",
    "        return np.nan\n",
    "    elif val < 3:\n",
    "        return 'New'\n",
    "    elif 3 <= val <= 6:\n",
    "        return 'Experienced'\n",
    "    elif 7 <= val <= 10:\n",
    "        return 'Established'\n",
    "    elif val > 11:\n",
    "        return 'Veteran'"
   ]
  },
  {
   "cell_type": "code",
   "execution_count": 34,
   "metadata": {
    "collapsed": false
   },
   "outputs": [],
   "source": [
    "combined_updated['service_cat'] = combined_updated['institute_service'].apply(map_year_value)"
   ]
  },
  {
   "cell_type": "code",
   "execution_count": 35,
   "metadata": {
    "collapsed": false
   },
   "outputs": [
    {
     "data": {
      "text/html": [
       "<div>\n",
       "<style scoped>\n",
       "    .dataframe tbody tr th:only-of-type {\n",
       "        vertical-align: middle;\n",
       "    }\n",
       "\n",
       "    .dataframe tbody tr th {\n",
       "        vertical-align: top;\n",
       "    }\n",
       "\n",
       "    .dataframe thead th {\n",
       "        text-align: right;\n",
       "    }\n",
       "</style>\n",
       "<table border=\"1\" class=\"dataframe\">\n",
       "  <thead>\n",
       "    <tr style=\"text-align: right;\">\n",
       "      <th></th>\n",
       "      <th>age</th>\n",
       "      <th>cease_date</th>\n",
       "      <th>dissatisfied</th>\n",
       "      <th>employment_status</th>\n",
       "      <th>gender</th>\n",
       "      <th>id</th>\n",
       "      <th>institute</th>\n",
       "      <th>institute_service</th>\n",
       "      <th>position</th>\n",
       "      <th>separationtype</th>\n",
       "      <th>service_cat</th>\n",
       "    </tr>\n",
       "  </thead>\n",
       "  <tbody>\n",
       "    <tr>\n",
       "      <th>3</th>\n",
       "      <td>36-40</td>\n",
       "      <td>05/2012</td>\n",
       "      <td>False</td>\n",
       "      <td>Permanent Full-time</td>\n",
       "      <td>Female</td>\n",
       "      <td>4.0</td>\n",
       "      <td>DETE</td>\n",
       "      <td>7.0</td>\n",
       "      <td>Teacher</td>\n",
       "      <td>Resignation-Other reasons</td>\n",
       "      <td>Established</td>\n",
       "    </tr>\n",
       "    <tr>\n",
       "      <th>5</th>\n",
       "      <td>41-45</td>\n",
       "      <td>05/2012</td>\n",
       "      <td>True</td>\n",
       "      <td>Permanent Full-time</td>\n",
       "      <td>Female</td>\n",
       "      <td>6.0</td>\n",
       "      <td>DETE</td>\n",
       "      <td>18.0</td>\n",
       "      <td>Guidance Officer</td>\n",
       "      <td>Resignation-Other reasons</td>\n",
       "      <td>Veteran</td>\n",
       "    </tr>\n",
       "    <tr>\n",
       "      <th>8</th>\n",
       "      <td>31-35</td>\n",
       "      <td>07/2012</td>\n",
       "      <td>False</td>\n",
       "      <td>Permanent Full-time</td>\n",
       "      <td>Female</td>\n",
       "      <td>9.0</td>\n",
       "      <td>DETE</td>\n",
       "      <td>3.0</td>\n",
       "      <td>Teacher</td>\n",
       "      <td>Resignation-Other reasons</td>\n",
       "      <td>Experienced</td>\n",
       "    </tr>\n",
       "    <tr>\n",
       "      <th>9</th>\n",
       "      <td>46-50</td>\n",
       "      <td>2012</td>\n",
       "      <td>True</td>\n",
       "      <td>Permanent Part-time</td>\n",
       "      <td>Female</td>\n",
       "      <td>10.0</td>\n",
       "      <td>DETE</td>\n",
       "      <td>15.0</td>\n",
       "      <td>Teacher Aide</td>\n",
       "      <td>Resignation-Other employer</td>\n",
       "      <td>Veteran</td>\n",
       "    </tr>\n",
       "    <tr>\n",
       "      <th>11</th>\n",
       "      <td>31-35</td>\n",
       "      <td>2012</td>\n",
       "      <td>False</td>\n",
       "      <td>Permanent Full-time</td>\n",
       "      <td>Male</td>\n",
       "      <td>12.0</td>\n",
       "      <td>DETE</td>\n",
       "      <td>3.0</td>\n",
       "      <td>Teacher</td>\n",
       "      <td>Resignation-Move overseas/interstate</td>\n",
       "      <td>Experienced</td>\n",
       "    </tr>\n",
       "  </tbody>\n",
       "</table>\n",
       "</div>"
      ],
      "text/plain": [
       "      age cease_date dissatisfied    employment_status  gender    id  \\\n",
       "3   36-40    05/2012        False  Permanent Full-time  Female   4.0   \n",
       "5   41-45    05/2012         True  Permanent Full-time  Female   6.0   \n",
       "8   31-35    07/2012        False  Permanent Full-time  Female   9.0   \n",
       "9   46-50       2012         True  Permanent Part-time  Female  10.0   \n",
       "11  31-35       2012        False  Permanent Full-time    Male  12.0   \n",
       "\n",
       "   institute  institute_service          position  \\\n",
       "3       DETE                7.0           Teacher   \n",
       "5       DETE               18.0  Guidance Officer   \n",
       "8       DETE                3.0           Teacher   \n",
       "9       DETE               15.0      Teacher Aide   \n",
       "11      DETE                3.0           Teacher   \n",
       "\n",
       "                          separationtype  service_cat  \n",
       "3              Resignation-Other reasons  Established  \n",
       "5              Resignation-Other reasons      Veteran  \n",
       "8              Resignation-Other reasons  Experienced  \n",
       "9             Resignation-Other employer      Veteran  \n",
       "11  Resignation-Move overseas/interstate  Experienced  "
      ]
     },
     "execution_count": 35,
     "metadata": {},
     "output_type": "execute_result"
    }
   ],
   "source": [
    "combined_updated.head()"
   ]
  },
  {
   "cell_type": "markdown",
   "metadata": {},
   "source": [
    "We created the service_cat column, which categorized employees according to the amount of years spent in their workplace. "
   ]
  },
  {
   "cell_type": "markdown",
   "metadata": {},
   "source": [
    "## Analysis - Q1"
   ]
  },
  {
   "cell_type": "code",
   "execution_count": 36,
   "metadata": {
    "collapsed": false
   },
   "outputs": [
    {
     "data": {
      "text/plain": [
       "False    403\n",
       "True     240\n",
       "NaN        8\n",
       "Name: dissatisfied, dtype: int64"
      ]
     },
     "execution_count": 36,
     "metadata": {},
     "output_type": "execute_result"
    }
   ],
   "source": [
    "combined_updated['dissatisfied'].value_counts(dropna=False)"
   ]
  },
  {
   "cell_type": "code",
   "execution_count": 37,
   "metadata": {
    "collapsed": false
   },
   "outputs": [],
   "source": [
    "combined_updated['dissatisfied'] = combined_updated['dissatisfied'].fillna(False)"
   ]
  },
  {
   "cell_type": "code",
   "execution_count": 38,
   "metadata": {
    "collapsed": false
   },
   "outputs": [],
   "source": [
    "service_pvt = combined_updated.pivot_table(index='service_cat', values='dissatisfied')"
   ]
  },
  {
   "cell_type": "code",
   "execution_count": 39,
   "metadata": {
    "collapsed": true
   },
   "outputs": [],
   "source": [
    "%matplotlib inline"
   ]
  },
  {
   "cell_type": "code",
   "execution_count": 40,
   "metadata": {
    "collapsed": false
   },
   "outputs": [
    {
     "data": {
      "text/plain": [
       "<matplotlib.axes._subplots.AxesSubplot at 0x7f3c0a160b70>"
      ]
     },
     "execution_count": 40,
     "metadata": {},
     "output_type": "execute_result"
    },
    {
     "data": {
      "image/png": "[encoded data removed]",
      "text/plain": [
       "<matplotlib.figure.Figure at 0x7f3c0a14bf28>"
      ]
     },
     "metadata": {},
     "output_type": "display_data"
    }
   ],
   "source": [
    "service_pvt.plot(kind='bar')"
   ]
  },
  {
   "cell_type": "markdown",
   "metadata": {},
   "source": [
    "Based on the analysis, we can determine that established and veteran employees are more likely to resign due to job dissatisfaction reasons."
   ]
  },
  {
   "cell_type": "markdown",
   "metadata": {},
   "source": [
    "## Cleaning the age column"
   ]
  },
  {
   "cell_type": "code",
   "execution_count": 41,
   "metadata": {
    "collapsed": false
   },
   "outputs": [
    {
     "data": {
      "text/plain": [
       "51-55            71\n",
       "NaN              55\n",
       "41-45            48\n",
       "41  45           45\n",
       "46-50            42\n",
       "36-40            41\n",
       "46  50           39\n",
       "26-30            35\n",
       "21  25           33\n",
       "31  35           32\n",
       "26  30           32\n",
       "36  40           32\n",
       "31-35            29\n",
       "21-25            29\n",
       "56 or older      29\n",
       "56-60            26\n",
       "61 or older      23\n",
       "20 or younger    10\n",
       "Name: age, dtype: int64"
      ]
     },
     "execution_count": 41,
     "metadata": {},
     "output_type": "execute_result"
    }
   ],
   "source": [
    "combined_updated['age'].value_counts(dropna=False)"
   ]
  },
  {
   "cell_type": "code",
   "execution_count": 42,
   "metadata": {
    "collapsed": false
   },
   "outputs": [],
   "source": [
    "combined_updated['age'] = combined_updated['age'].astype(str).str.extract(r'(\\d+)', expand=False).astype(float)"
   ]
  },
  {
   "cell_type": "code",
   "execution_count": 43,
   "metadata": {
    "collapsed": false
   },
   "outputs": [
    {
     "data": {
      "text/plain": [
       " 41.0    93\n",
       " 46.0    81\n",
       " 36.0    73\n",
       " 51.0    71\n",
       " 26.0    67\n",
       " 21.0    62\n",
       " 31.0    61\n",
       "NaN      55\n",
       " 56.0    55\n",
       " 61.0    23\n",
       " 20.0    10\n",
       "Name: age, dtype: int64"
      ]
     },
     "execution_count": 43,
     "metadata": {},
     "output_type": "execute_result"
    }
   ],
   "source": [
    "combined_updated['age'].value_counts(dropna=False)"
   ]
  },
  {
   "cell_type": "markdown",
   "metadata": {},
   "source": [
    "## Analysis - Q2"
   ]
  },
  {
   "cell_type": "code",
   "execution_count": 44,
   "metadata": {
    "collapsed": true
   },
   "outputs": [],
   "source": [
    "age_pvt = combined_updated.pivot_table(index='age', values='dissatisfied')"
   ]
  },
  {
   "cell_type": "code",
   "execution_count": 45,
   "metadata": {
    "collapsed": false
   },
   "outputs": [
    {
     "data": {
      "text/plain": [
       "<matplotlib.axes._subplots.AxesSubplot at 0x7f3c0a1601d0>"
      ]
     },
     "execution_count": 45,
     "metadata": {},
     "output_type": "execute_result"
    },
    {
     "data": {
      "image/png": "[encoded data removed]",
      "text/plain": [
       "<matplotlib.figure.Figure at 0x7f3c07df3ba8>"
      ]
     },
     "metadata": {},
     "output_type": "display_data"
    }
   ],
   "source": [
    "age_pvt.plot(kind='bar')"
   ]
  },
  {
   "cell_type": "markdown",
   "metadata": {},
   "source": [
    "We can conclude that there is no obvious correlation between age and job dissatisfaction. The only notable difference in the categories occurs with employees less than 25, who tend to be less dissatisfied; and with employees greater than 60, who tend to be the most dissatisfied."
   ]
  }
 ],
 "metadata": {
  "kernelspec": {
   "display_name": "Python 3",
   "language": "python",
   "name": "python3"
  },
  "language_info": {
   "codemirror_mode": {
    "name": "ipython",
    "version": 3
   },
   "file_extension": ".py",
   "mimetype": "text/x-python",
   "name": "python",
   "nbconvert_exporter": "python",
   "pygments_lexer": "ipython3",
   "version": "3.4.3"
  }
 },
 "nbformat": 4,
 "nbformat_minor": 2
}
